{
 "cells": [
  {
   "cell_type": "code",
   "execution_count": 1,
   "id": "4d78e497",
   "metadata": {},
   "outputs": [],
   "source": [
    "from pymatgen.analysis.phase_diagram   import PhaseDiagram\n",
    "from pymatgen.entries.computed_entries import ComputedEntry"
   ]
  },
  {
   "cell_type": "code",
   "execution_count": 3,
   "id": "b01d9a13",
   "metadata": {},
   "outputs": [
    {
     "data": {
      "text/plain": [
       "[None ComputedEntry - Bi1          (Bi)\n",
       " Energy (Uncorrected)     = -4.2892   eV (-4.2892  eV/atom)\n",
       " Correction               = 0.0000    eV (0.0000   eV/atom)\n",
       " Energy (Final)           = -4.2892   eV (-4.2892  eV/atom)\n",
       " Energy Adjustments:\n",
       "   None\n",
       " Parameters:\n",
       " Data:,\n",
       " None ComputedEntry - Sb1          (Sb)\n",
       " Energy (Uncorrected)     = -4.5596   eV (-4.5596  eV/atom)\n",
       " Correction               = 0.0000    eV (0.0000   eV/atom)\n",
       " Energy (Final)           = -4.5596   eV (-4.5596  eV/atom)\n",
       " Energy Adjustments:\n",
       "   None\n",
       " Parameters:\n",
       " Data:,\n",
       " None ComputedEntry - S1           (S)\n",
       " Energy (Uncorrected)     = -4.3836   eV (-4.3836  eV/atom)\n",
       " Correction               = 0.0000    eV (0.0000   eV/atom)\n",
       " Energy (Final)           = -4.3836   eV (-4.3836  eV/atom)\n",
       " Energy Adjustments:\n",
       "   None\n",
       " Parameters:\n",
       " Data:,\n",
       " None ComputedEntry - Se1          (Se)\n",
       " Energy (Uncorrected)     = -3.8504   eV (-3.8504  eV/atom)\n",
       " Correction               = 0.0000    eV (0.0000   eV/atom)\n",
       " Energy (Final)           = -3.8504   eV (-3.8504  eV/atom)\n",
       " Energy Adjustments:\n",
       "   None\n",
       " Parameters:\n",
       " Data:,\n",
       " None ComputedEntry - I1           (I)\n",
       " Energy (Uncorrected)     = -1.7309   eV (-1.7309  eV/atom)\n",
       " Correction               = 0.0000    eV (0.0000   eV/atom)\n",
       " Energy (Final)           = -1.7309   eV (-1.7309  eV/atom)\n",
       " Energy Adjustments:\n",
       "   None\n",
       " Parameters:\n",
       " Data:,\n",
       " None ComputedEntry - Br1          (Br)\n",
       " Energy (Uncorrected)     = -1.8704   eV (-1.8704  eV/atom)\n",
       " Correction               = 0.0000    eV (0.0000   eV/atom)\n",
       " Energy (Final)           = -1.8704   eV (-1.8704  eV/atom)\n",
       " Energy Adjustments:\n",
       "   None\n",
       " Parameters:\n",
       " Data:,\n",
       " None ComputedEntry - Bi2 S3       (Bi2S3)\n",
       " Energy (Uncorrected)     = -23.6841  eV (-4.7368  eV/atom)\n",
       " Correction               = 0.0000    eV (0.0000   eV/atom)\n",
       " Energy (Final)           = -23.6841  eV (-4.7368  eV/atom)\n",
       " Energy Adjustments:\n",
       "   None\n",
       " Parameters:\n",
       " Data:,\n",
       " None ComputedEntry - Bi2 Se3      (Bi2Se3)\n",
       " Energy (Uncorrected)     = -22.0441  eV (-4.4088  eV/atom)\n",
       " Correction               = 0.0000    eV (0.0000   eV/atom)\n",
       " Energy (Final)           = -22.0441  eV (-4.4088  eV/atom)\n",
       " Energy Adjustments:\n",
       "   None\n",
       " Parameters:\n",
       " Data:,\n",
       " None ComputedEntry - Sb2 S3       (Sb2S3)\n",
       " Energy (Uncorrected)     = -23.7214  eV (-4.7443  eV/atom)\n",
       " Correction               = 0.0000    eV (0.0000   eV/atom)\n",
       " Energy (Final)           = -23.7214  eV (-4.7443  eV/atom)\n",
       " Energy Adjustments:\n",
       "   None\n",
       " Parameters:\n",
       " Data:,\n",
       " None ComputedEntry - Sb2 Se3      (Sb2Se3)\n",
       " Energy (Uncorrected)     = -21.9620  eV (-4.3924  eV/atom)\n",
       " Correction               = 0.0000    eV (0.0000   eV/atom)\n",
       " Energy (Final)           = -21.9620  eV (-4.3924  eV/atom)\n",
       " Energy Adjustments:\n",
       "   None\n",
       " Parameters:\n",
       " Data:,\n",
       " None ComputedEntry - Bi1 I3       (BiI3)\n",
       " Energy (Uncorrected)     = -11.3379  eV (-2.8345  eV/atom)\n",
       " Correction               = 0.0000    eV (0.0000   eV/atom)\n",
       " Energy (Final)           = -11.3379  eV (-2.8345  eV/atom)\n",
       " Energy Adjustments:\n",
       "   None\n",
       " Parameters:\n",
       " Data:,\n",
       " None ComputedEntry - Bi1 Br3      (BiBr3)\n",
       " Energy (Uncorrected)     = -12.7651  eV (-3.1913  eV/atom)\n",
       " Correction               = 0.0000    eV (0.0000   eV/atom)\n",
       " Energy (Final)           = -12.7651  eV (-3.1913  eV/atom)\n",
       " Energy Adjustments:\n",
       "   None\n",
       " Parameters:\n",
       " Data:,\n",
       " None ComputedEntry - Sb1 I3       (SbI3)\n",
       " Energy (Uncorrected)     = -11.1558  eV (-2.7889  eV/atom)\n",
       " Correction               = 0.0000    eV (0.0000   eV/atom)\n",
       " Energy (Final)           = -11.1558  eV (-2.7889  eV/atom)\n",
       " Energy Adjustments:\n",
       "   None\n",
       " Parameters:\n",
       " Data:,\n",
       " None ComputedEntry - Sb1 Br3      (SbBr3)\n",
       " Energy (Uncorrected)     = -12.3451  eV (-3.0863  eV/atom)\n",
       " Correction               = 0.0000    eV (0.0000   eV/atom)\n",
       " Energy (Final)           = -12.3451  eV (-3.0863  eV/atom)\n",
       " Energy Adjustments:\n",
       "   None\n",
       " Parameters:\n",
       " Data:,\n",
       " None ComputedEntry - Bi1 S1 I1    (BiSI)\n",
       " Energy (Uncorrected)     = -11.7041  eV (-3.9014  eV/atom)\n",
       " Correction               = 0.0000    eV (0.0000   eV/atom)\n",
       " Energy (Final)           = -11.7041  eV (-3.9014  eV/atom)\n",
       " Energy Adjustments:\n",
       "   None\n",
       " Parameters:\n",
       " Data:,\n",
       " None ComputedEntry - Bi1 Se1 I1   (BiSeI)\n",
       " Energy (Uncorrected)     = -11.1435  eV (-3.7145  eV/atom)\n",
       " Correction               = 0.0000    eV (0.0000   eV/atom)\n",
       " Energy (Final)           = -11.1435  eV (-3.7145  eV/atom)\n",
       " Energy Adjustments:\n",
       "   None\n",
       " Parameters:\n",
       " Data:,\n",
       " None ComputedEntry - Bi1 S1 Br1   (BiSBr)\n",
       " Energy (Uncorrected)     = -12.2080  eV (-4.0693  eV/atom)\n",
       " Correction               = 0.0000    eV (0.0000   eV/atom)\n",
       " Energy (Final)           = -12.2080  eV (-4.0693  eV/atom)\n",
       " Energy Adjustments:\n",
       "   None\n",
       " Parameters:\n",
       " Data:,\n",
       " None ComputedEntry - Bi1 Se1 Br1  (BiSeBr)\n",
       " Energy (Uncorrected)     = -11.6194  eV (-3.8731  eV/atom)\n",
       " Correction               = 0.0000    eV (0.0000   eV/atom)\n",
       " Energy (Final)           = -11.6194  eV (-3.8731  eV/atom)\n",
       " Energy Adjustments:\n",
       "   None\n",
       " Parameters:\n",
       " Data:,\n",
       " None ComputedEntry - Sb1 S1 I1    (SbSI)\n",
       " Energy (Uncorrected)     = -11.7101  eV (-3.9034  eV/atom)\n",
       " Correction               = 0.0000    eV (0.0000   eV/atom)\n",
       " Energy (Final)           = -11.7101  eV (-3.9034  eV/atom)\n",
       " Energy Adjustments:\n",
       "   None\n",
       " Parameters:\n",
       " Data:,\n",
       " None ComputedEntry - Sb1 Se1 I1   (SbSeI)\n",
       " Energy (Uncorrected)     = -11.1285  eV (-3.7095  eV/atom)\n",
       " Correction               = 0.0000    eV (0.0000   eV/atom)\n",
       " Energy (Final)           = -11.1285  eV (-3.7095  eV/atom)\n",
       " Energy Adjustments:\n",
       "   None\n",
       " Parameters:\n",
       " Data:,\n",
       " None ComputedEntry - Sb1 S1 Br1   (SbSBr)\n",
       " Energy (Uncorrected)     = -12.1808  eV (-4.0603  eV/atom)\n",
       " Correction               = 0.0000    eV (0.0000   eV/atom)\n",
       " Energy (Final)           = -12.1808  eV (-4.0603  eV/atom)\n",
       " Energy Adjustments:\n",
       "   None\n",
       " Parameters:\n",
       " Data:,\n",
       " None ComputedEntry - Sb1 Se1 Br1  (SbSeBr)\n",
       " Energy (Uncorrected)     = -11.5755  eV (-3.8585  eV/atom)\n",
       " Correction               = 0.0000    eV (0.0000   eV/atom)\n",
       " Energy (Final)           = -11.5755  eV (-3.8585  eV/atom)\n",
       " Energy Adjustments:\n",
       "   None\n",
       " Parameters:\n",
       " Data:]"
      ]
     },
     "execution_count": 3,
     "metadata": {},
     "output_type": "execute_result"
    }
   ],
   "source": [
    "# All energies in eV/fu, computed at PBEs level of theory\n",
    "# The convex hull routine of pymatgen converts this into eV/atom\n",
    "\n",
    "correction = 0\n",
    "\n",
    "energies_convexhull = {\n",
    "    'Bi': -4.289179,\n",
    "    'Sb': -4.559573,\n",
    "    'S':  -4.383646,\n",
    "    'Se': -3.850400,\n",
    "    'I':  -1.730931,\n",
    "    'Br': -1.870427,\n",
    "    'Bi2S3':  -23.684051,\n",
    "    'Bi2Se3': -22.044146,\n",
    "    'Sb2S3':  -23.721411,\n",
    "    'Sb2Se3': -21.962036,\n",
    "    'BiI3':   -11.337934,\n",
    "    'BiBr3':  -12.765129,\n",
    "    'SbI3':   -11.155779,\n",
    "    'SbBr3':  -12.345123,\n",
    "    'BiSI':   -11.7041115,\n",
    "    'BiSeI':  -11.143490,\n",
    "    'BiSBr':  -12.207992,\n",
    "    'BiSeBr': -11.619383,\n",
    "    'SbSI':   -11.710114,\n",
    "    'SbSeI':  -11.128530,\n",
    "    'SbSBr':  -12.180770,\n",
    "    'SbSeBr': -11.575452\n",
    "}\n",
    "\n",
    "my_entries = []\n",
    "for element in energies_convexhull:\n",
    "    # Get the energy of the element\n",
    "    energy = energies_convexhull[element]\n",
    "    \n",
    "    # Generate the temporal entry\n",
    "    entry = ComputedEntry(element, energy, correction)  # Correction are set all to zero\n",
    "    \n",
    "    # Append the temporal entry\n",
    "    my_entries.append(entry)\n",
    "my_entries"
   ]
  },
  {
   "cell_type": "code",
   "execution_count": 4,
   "id": "89d0807d",
   "metadata": {},
   "outputs": [
    {
     "data": {
      "text/plain": [
       "Bi-Sb-Se-S-I-Br phase diagram\n",
       "22 stable phases: \n",
       "Bi, BiBr3, BiI3, BiSBr, BiSI, BiSeBr, BiSeI, Bi2S3, Bi2Se3, Br, I, S, Sb, SbBr3, SbI3, SbSBr, SbSI, SbSeBr, SbSeI, Sb2S3, Sb2Se3, Se"
      ]
     },
     "execution_count": 4,
     "metadata": {},
     "output_type": "execute_result"
    }
   ],
   "source": [
    "# Generate convex-hull\n",
    "pd = PhaseDiagram(my_entries)\n",
    "pd"
   ]
  },
  {
   "cell_type": "code",
   "execution_count": 5,
   "id": "0c372390",
   "metadata": {
    "scrolled": false
   },
   "outputs": [
    {
     "name": "stdout",
     "output_type": "stream",
     "text": [
      "Energies above convex hull (in eV/atom)\n",
      "Bi: 0.00\n",
      "\n",
      "Sb: 0.00\n",
      "\n",
      "S: 0.00\n",
      "\n",
      "Se: 0.00\n",
      "\n",
      "I: 0.00\n",
      "\n",
      "Br: 0.00\n",
      "\n",
      "Bi2S3: -0.39\n",
      "\n",
      "Bi2Se3: -0.38\n",
      "\n",
      "Sb2S3: -0.29\n",
      "\n",
      "Sb2Se3: -0.26\n",
      "\n",
      "BiI3: -0.46\n",
      "\n",
      "BiBr3: -0.72\n",
      "\n",
      "SbI3: -0.35\n",
      "\n",
      "SbBr3: -0.54\n",
      "\n",
      "BiSI: -0.01\n",
      "\n",
      "BiSeI: -0.01\n",
      "\n",
      "BiSBr: -0.02\n",
      "\n",
      "BiSeBr: -0.01\n",
      "\n",
      "SbSI: -0.03\n",
      "\n",
      "SbSeI: -0.03\n",
      "\n",
      "SbSBr: -0.05\n",
      "\n",
      "SbSeBr: -0.05\n"
     ]
    }
   ],
   "source": [
    "# Check the stability of all element within the convex hull\n",
    "# Energies above convex hull given in eV/atom\n",
    "\n",
    "print('Energies above convex hull (in eV/atom)')\n",
    "for element in energies_convexhull:    \n",
    "    # Getting the energy of the element\n",
    "    energy = energies_convexhull[element]\n",
    "    \n",
    "    # Generating the temporal entry\n",
    "    entry = ComputedEntry(element, energy, correction)  # Correction are set all to zero\n",
    "\n",
    "    decomp, e_above_hull = pd.get_decomp_and_phase_separation_energy(entry)  # Returns the energy in eV/atom\n",
    "    print(f'{element}: {e_above_hull:.2f}\\n')"
   ]
  },
  {
   "cell_type": "markdown",
   "id": "af11d775",
   "metadata": {},
   "source": [
    "# Above and below the convex hull"
   ]
  },
  {
   "cell_type": "code",
   "execution_count": 6,
   "id": "160ae278",
   "metadata": {},
   "outputs": [
    {
     "data": {
      "text/plain": [
       "({None ComputedEntry - Bi1 I3       (BiI3)\n",
       "  Energy (Uncorrected)     = -11.3379  eV (-2.8345  eV/atom)\n",
       "  Correction               = 0.0000    eV (0.0000   eV/atom)\n",
       "  Energy (Final)           = -11.3379  eV (-2.8345  eV/atom)\n",
       "  Energy Adjustments:\n",
       "    None\n",
       "  Parameters:\n",
       "  Data:: 0.4444444444444444,\n",
       "  None ComputedEntry - Bi2 S3       (Bi2S3)\n",
       "  Energy (Uncorrected)     = -23.6841  eV (-4.7368  eV/atom)\n",
       "  Correction               = 0.0000    eV (0.0000   eV/atom)\n",
       "  Energy (Final)           = -23.6841  eV (-4.7368  eV/atom)\n",
       "  Energy Adjustments:\n",
       "    None\n",
       "  Parameters:\n",
       "  Data:: 0.5555555555555551},\n",
       " 0.023294499999997775)"
      ]
     },
     "execution_count": 6,
     "metadata": {},
     "output_type": "execute_result"
    }
   ],
   "source": [
    "# Try a case above the convex-hull\n",
    "\n",
    "new_entry = ComputedEntry('BiSI', -11.6041115, correction)\n",
    "decomp, e_above_hull = pd.get_decomp_and_phase_separation_energy(new_entry)  # Returns the energy in eV/atom\n",
    "decomp, e_above_hull"
   ]
  },
  {
   "cell_type": "code",
   "execution_count": 7,
   "id": "d8ee5197",
   "metadata": {},
   "outputs": [
    {
     "data": {
      "text/plain": [
       "({None ComputedEntry - Bi1 I3       (BiI3)\n",
       "  Energy (Uncorrected)     = -11.3379  eV (-2.8345  eV/atom)\n",
       "  Correction               = 0.0000    eV (0.0000   eV/atom)\n",
       "  Energy (Final)           = -11.3379  eV (-2.8345  eV/atom)\n",
       "  Energy Adjustments:\n",
       "    None\n",
       "  Parameters:\n",
       "  Data:: 0.4444444444444444,\n",
       "  None ComputedEntry - Bi2 S3       (Bi2S3)\n",
       "  Energy (Uncorrected)     = -23.6841  eV (-4.7368  eV/atom)\n",
       "  Correction               = 0.0000    eV (0.0000   eV/atom)\n",
       "  Energy (Final)           = -23.6841  eV (-4.7368  eV/atom)\n",
       "  Energy Adjustments:\n",
       "    None\n",
       "  Parameters:\n",
       "  Data:: 0.5555555555555551},\n",
       " -0.043372166666668654)"
      ]
     },
     "execution_count": 7,
     "metadata": {},
     "output_type": "execute_result"
    }
   ],
   "source": [
    "# Try a case below the convex-hull\n",
    "\n",
    "new_entry = ComputedEntry('BiSI', -11.8041115, correction)\n",
    "decomp, e_above_hull = pd.get_decomp_and_phase_separation_energy(new_entry)\n",
    "decomp, e_above_hull"
   ]
  },
  {
   "cell_type": "markdown",
   "id": "604d1a22",
   "metadata": {},
   "source": [
    "# Equivalent ways of calling the elements"
   ]
  },
  {
   "cell_type": "code",
   "execution_count": 18,
   "id": "26bcc3c9",
   "metadata": {},
   "outputs": [
    {
     "data": {
      "text/plain": [
       "-0.043372166666668654"
      ]
     },
     "execution_count": 18,
     "metadata": {},
     "output_type": "execute_result"
    }
   ],
   "source": [
    "new_entry = ComputedEntry('Bi2S2I2', -23.608223, correction)\n",
    "decomp, e_above_hull = pd.get_decomp_and_phase_separation_energy(new_entry)\n",
    "e_above_hull"
   ]
  },
  {
   "cell_type": "code",
   "execution_count": 9,
   "id": "26a87011",
   "metadata": {},
   "outputs": [
    {
     "data": {
      "text/plain": [
       "-0.043372166666668654"
      ]
     },
     "execution_count": 9,
     "metadata": {},
     "output_type": "execute_result"
    }
   ],
   "source": [
    "new_entry = ComputedEntry('Bi1S1I1', -11.8041115, correction)\n",
    "decomp, e_above_hull = pd.get_decomp_and_phase_separation_energy(new_entry)\n",
    "e_above_hull"
   ]
  },
  {
   "cell_type": "code",
   "execution_count": 20,
   "id": "27a62a91",
   "metadata": {},
   "outputs": [
    {
     "data": {
      "text/plain": [
       "-0.043372166666668654"
      ]
     },
     "execution_count": 20,
     "metadata": {},
     "output_type": "execute_result"
    }
   ],
   "source": [
    "new_entry = ComputedEntry('Bi0.5S0.5I0.5', -5.90205575, correction)\n",
    "decomp, e_above_hull = pd.get_decomp_and_phase_separation_energy(new_entry)\n",
    "e_above_hull"
   ]
  },
  {
   "cell_type": "code",
   "execution_count": 21,
   "id": "b4859a11",
   "metadata": {},
   "outputs": [
    {
     "data": {
      "text/plain": [
       "-0.043372166666668654"
      ]
     },
     "execution_count": 21,
     "metadata": {},
     "output_type": "execute_result"
    }
   ],
   "source": [
    "new_entry = ComputedEntry('Sb0.0Bi0.5S0.5I0.5', -5.90205575, correction)\n",
    "decomp, e_above_hull = pd.get_decomp_and_phase_separation_energy(new_entry)\n",
    "e_above_hull"
   ]
  }
 ],
 "metadata": {
  "kernelspec": {
   "display_name": "Python 3 (ipykernel)",
   "language": "python",
   "name": "python3"
  },
  "language_info": {
   "codemirror_mode": {
    "name": "ipython",
    "version": 3
   },
   "file_extension": ".py",
   "mimetype": "text/x-python",
   "name": "python",
   "nbconvert_exporter": "python",
   "pygments_lexer": "ipython3",
   "version": "3.11.1"
  }
 },
 "nbformat": 4,
 "nbformat_minor": 5
}
